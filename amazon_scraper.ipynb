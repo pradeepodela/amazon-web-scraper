{
 "cells": [
  {
   "cell_type": "code",
   "execution_count": 1,
   "metadata": {},
   "outputs": [
    {
     "name": "stdout",
     "output_type": "stream",
     "text": [
      "success\n"
     ]
    }
   ],
   "source": [
    "print('success')"
   ]
  },
  {
   "cell_type": "code",
   "execution_count": 2,
   "metadata": {},
   "outputs": [],
   "source": [
    "from autoscraper import AutoScraper"
   ]
  },
  {
   "cell_type": "code",
   "execution_count": 7,
   "metadata": {},
   "outputs": [],
   "source": [
    "scraper =  AutoScraper()\n",
    "url = 'https://www.amazon.in/s?k=alexa'\n",
    "wanted_list = [\"All-new Echo Dot (4th Gen) | Next generation smart speaker with improved bass and Alexa (Black)\",\"₹4,499\",\"4.4 out of 54.4 out of 5\"]"
   ]
  },
  {
   "cell_type": "code",
   "execution_count": 8,
   "metadata": {},
   "outputs": [
    {
     "name": "stdout",
     "output_type": "stream",
     "text": [
      "['All-new Echo Dot (4th Gen) | Next generation smart speaker with improved bass and Alexa (Black)', 'Echo Dot (3rd Gen) – Smart speaker with Alexa (Black)', 'All-new Echo Dot (4th Gen) | Next generation smart speaker with improved bass and Alexa (Blue)', 'All-new Echo Dot (4th Gen) with clock | Next generation smart speaker with improved bass, LED display and Alexa (Blue)', 'Echo Dot (3rd Gen) – Smart speaker with Alexa (Purple)', 'Introducing Echo Show 8 – Smart display with Alexa - 8\" HD screen with stereo sound – Black', 'Echo Dot (3rd Gen), Certified Refurbished, Black – Improved smart speaker with Alexa – Like new, backed with 1-year warranty', 'Introducing Echo Show 5 - Smart display with Alexa - 5.5\" screen & crisp sound (White)', 'All-new Echo (4th Gen) | Premium sound powered by Dolby and Alexa (Black)', 'All-new Echo (4th Gen) | Premium sound powered by Dolby and Alexa (Blue)', 'Echo Dot (3rd Gen, Purple) Combo with Wipro 9W LED Smart Color Bulb - Smart Home Starter Kit', 'Echo Dot (3rd Gen), Certified Refurbished, White – Improved smart speaker with Alexa – Like new, backed with 1-year warranty', 'Echo Dot (3rd Gen), Certified Refurbished, Grey – Improved smart speaker with Alexa – Like new, backed with 1-year warranty', 'Echo Auto - add Alexa to your car', 'All-new Echo (4th Gen) | Premium sound powered by Dolby and Alexa (White)', 'All-new Echo Dot (4th Gen) with clock | Next generation smart speaker with improved bass, LED display and Alexa (White)', 'Introducing Echo Show 8 – Smart display with Alexa - 8', 'Introducing Echo Show 5 - Smart display with Alexa - 5.5', '₹4,499', '₹3,499', '₹5,499', '₹8,499', '₹12,999', '₹2,999', '₹3,799', '₹8,999', '₹7,999', '₹9,999', '₹3,699', '₹6,598', '₹4,999', '3699.00', '6598.00']\n"
     ]
    }
   ],
   "source": [
    "result = scraper.build(url,wanted_list)\n",
    "print(result)"
   ]
  },
  {
   "cell_type": "code",
   "execution_count": 9,
   "metadata": {},
   "outputs": [
    {
     "data": {
      "text/plain": [
       "{'rule_xg22': ['Fire TV Stick (2020) with Alexa Voice Remote (includes TV controls) | Stream HD Quality Video with Dolby Atmos Audio | 2020 release',\n",
       "  'Fire TV Stick 4K with Alexa Voice Remote | Stream in 4K resolution',\n",
       "  'Fire TV Stick (3rd Gen, 2021) with all-new Alexa Voice Remote (includes TV and app controls) | HD streaming device | 2021 release',\n",
       "  'ACUTAS Silicone Cover for Fire TV 4K/Fire TV (3rd Gen)/Compatible with All 2nd Gen Alexa Voice Remote (Red)',\n",
       "  'Zaoma Protective Case for Amazon Fire TV Stick 4K Ultra HD with All-New Alexa Voice Remote - Premium PU Leather Cover Holder, Brown',\n",
       "  'ACUTAS Silicone Case Cover for Fire TV 4K/Fire TV (3rd Gen)/Compatible with All 2nd Gen Alexa Voice Remote Control (Red)',\n",
       "  'ACUTAS Silicone Case Cover for Fire TV 4K/Fire TV (3rd Gen)/Compatible with All 2nd Gen Alexa Voice Remote Control (Black)',\n",
       "  'ACUTAS Silicone Cover for Fire TV 4K/Fire TV (3rd Gen)/Compatible with All 2nd Gen Alexa Voice Remote Control (Black)',\n",
       "  'Wincase® Protective Cover/Case for Fire TV 4K/Fire TV (3rd Gen)/Compatible with All 2nd Gen Alexa Voice Remote Control Cover (Only Cover for Sell)',\n",
       "  'LUNAGARIYA®, Protective Cover for Amazon Fire TV Stick 4K Ultra HD All Alexa Voice Remote Control Pouch Cover Holder PU Leather Cover Holder(only Cover for Selling Purpose)',\n",
       "  'TECVITY® SIKAI Protective Silicone Green Cover for Fire TV 4K/ Fire TV (3rd Gen)/ Compatible with All 2nd Gen Alexa Voice Remote Control.',\n",
       "  'TECVITY® SIKAI Protective Silicone Black Cover for Fire TV 4K/ Fire TV (3rd Gen)/ Compatible with All 2nd Gen Alexa Voice Remote Control',\n",
       "  'InfiZoneTM 3 Port 4K 1.4V Version HDMI Switch Splitter with Pigtail Cable for Fire Stick, Xbox One, PS3, 4, TV (Black)',\n",
       "  'Zaoma Protective Case for Amazon Fire TV Stick 4K Ultra HD with All-New Alexa Voice Remote - Premium PU Leather Cover Holder, Black',\n",
       "  'Farraige® 3 Port HDMI 4 K 1.4V Version Switch Splitter with Pigtail Cable Compatible with Fire Stick, Xbox One, PS3, 4, TV (Black)',\n",
       "  'TECVITY® SIKAI Protective Silicone Red Cover for Fire TV 4K/ Fire TV (3rd Gen)/ Compatible with All 2nd Gen Alexa Voice Remote Control.'],\n",
       " 'rule_2bdz': ['Fire TV Stick (2020) with Alexa Voice Remote (includes TV controls) | Stream HD Quality Video with Dolby Atmos Audio | 202...',\n",
       "  'Fire TV Stick 4K with Alexa Voice Remote | Stream in 4K resolution',\n",
       "  'Fire TV Stick (3rd Gen, 2021) with all-new Alexa Voice Remote (includes TV and app controls) | HD streaming device | 2021 ...',\n",
       "  'ACUTAS Silicone Cover for Fire TV 4K/Fire TV (3rd Gen)/Compatible with All 2nd Gen Alexa Voice Remote (Red)',\n",
       "  'Zaoma Protective Case for Amazon Fire TV Stick 4K Ultra HD with All-New Alexa Voice Remote - Premium PU Leather Cover Hold...',\n",
       "  'ACUTAS Silicone Case Cover for Fire TV 4K/Fire TV (3rd Gen)/Compatible with All 2nd Gen Alexa Voice Remote Control (Red)',\n",
       "  'ACUTAS Silicone Case Cover for Fire TV 4K/Fire TV (3rd Gen)/Compatible with All 2nd Gen Alexa Voice Remote Control (Black)',\n",
       "  'ACUTAS Silicone Cover for Fire TV 4K/Fire TV (3rd Gen)/Compatible with All 2nd Gen Alexa Voice Remote Control (Black)',\n",
       "  'Wincase® Protective Cover/Case for Fire TV 4K/Fire TV (3rd Gen)/Compatible with All 2nd Gen Alexa Voice Remote Control Cov...',\n",
       "  'LUNAGARIYA®, Protective Cover for Amazon Fire TV Stick 4K Ultra HD All Alexa Voice Remote Control Pouch Cover Holder PU Le...',\n",
       "  'TECVITY® SIKAI Protective Silicone Green Cover for Fire TV 4K/ Fire TV (3rd Gen)/ Compatible with All 2nd Gen Alexa Voice ...',\n",
       "  'TECVITY® SIKAI Protective Silicone Black Cover for Fire TV 4K/ Fire TV (3rd Gen)/ Compatible with All 2nd Gen Alexa Voice ...',\n",
       "  'InfiZoneTM 3 Port 4K 1.4V Version HDMI Switch Splitter with Pigtail Cable for Fire Stick, Xbox One, PS3, 4, TV (Black)',\n",
       "  'Zaoma Protective Case for Amazon Fire TV Stick 4K Ultra HD with All-New Alexa Voice Remote - Premium PU Leather Cover Hold...',\n",
       "  'Farraige® 3 Port HDMI 4 K 1.4V Version Switch Splitter with Pigtail Cable Compatible with Fire Stick, Xbox One, PS3, 4, TV...',\n",
       "  'TECVITY® SIKAI Protective Silicone Red Cover for Fire TV 4K/ Fire TV (3rd Gen)/ Compatible with All 2nd Gen Alexa Voice Re...'],\n",
       " 'rule_6b01': ['₹2,999',\n",
       "  '₹4,999',\n",
       "  '₹5,999',\n",
       "  '₹3,999',\n",
       "  '₹4,999',\n",
       "  '₹369',\n",
       "  '₹999',\n",
       "  '₹299',\n",
       "  '₹595',\n",
       "  '₹369',\n",
       "  '₹999',\n",
       "  '₹369',\n",
       "  '₹999',\n",
       "  '₹369',\n",
       "  '₹999',\n",
       "  '₹149',\n",
       "  '₹399',\n",
       "  '₹199',\n",
       "  '₹399',\n",
       "  '₹799',\n",
       "  '₹2,000',\n",
       "  '₹799',\n",
       "  '₹2,000',\n",
       "  '₹529',\n",
       "  '₹1,299',\n",
       "  '₹299',\n",
       "  '₹595',\n",
       "  '₹499',\n",
       "  '₹1,999',\n",
       "  '₹799',\n",
       "  '₹1,500'],\n",
       " 'rule_perb': ['₹2,999',\n",
       "  '₹4,999',\n",
       "  '₹5,999',\n",
       "  '₹3,999',\n",
       "  '₹4,999',\n",
       "  '₹369',\n",
       "  '₹999',\n",
       "  '₹299',\n",
       "  '₹595',\n",
       "  '₹369',\n",
       "  '₹999',\n",
       "  '₹369',\n",
       "  '₹999',\n",
       "  '₹369',\n",
       "  '₹999',\n",
       "  '₹149',\n",
       "  '₹399',\n",
       "  '₹199',\n",
       "  '₹399',\n",
       "  '₹799',\n",
       "  '₹2,000',\n",
       "  '₹799',\n",
       "  '₹2,000',\n",
       "  '₹529',\n",
       "  '₹1,299',\n",
       "  '₹299',\n",
       "  '₹595',\n",
       "  '₹499',\n",
       "  '₹1,999',\n",
       "  '₹799',\n",
       "  '₹1,500'],\n",
       " 'rule_seqe': ['₹2,999',\n",
       "  '₹4,999',\n",
       "  '₹5,999',\n",
       "  '₹3,999',\n",
       "  '₹4,999',\n",
       "  '₹369',\n",
       "  '₹999',\n",
       "  '₹299',\n",
       "  '₹595',\n",
       "  '₹369',\n",
       "  '₹999',\n",
       "  '₹369',\n",
       "  '₹999',\n",
       "  '₹369',\n",
       "  '₹999',\n",
       "  '₹149',\n",
       "  '₹399',\n",
       "  '₹199',\n",
       "  '₹399',\n",
       "  '₹799',\n",
       "  '₹2,000',\n",
       "  '₹799',\n",
       "  '₹2,000',\n",
       "  '₹529',\n",
       "  '₹1,299',\n",
       "  '₹299',\n",
       "  '₹595',\n",
       "  '₹499',\n",
       "  '₹1,999',\n",
       "  '₹799',\n",
       "  '₹1,500'],\n",
       " 'rule_nmpl': ['₹2,999',\n",
       "  '₹4,999',\n",
       "  '₹5,999',\n",
       "  '₹3,999',\n",
       "  '₹4,999',\n",
       "  '₹369',\n",
       "  '₹999',\n",
       "  '₹299',\n",
       "  '₹595',\n",
       "  '₹369',\n",
       "  '₹999',\n",
       "  '₹369',\n",
       "  '₹999',\n",
       "  '₹369',\n",
       "  '₹999',\n",
       "  '₹149',\n",
       "  '₹399',\n",
       "  '₹199',\n",
       "  '₹399',\n",
       "  '₹799',\n",
       "  '₹2,000',\n",
       "  '₹799',\n",
       "  '₹2,000',\n",
       "  '₹529',\n",
       "  '₹1,299',\n",
       "  '₹299',\n",
       "  '₹595',\n",
       "  '₹499',\n",
       "  '₹1,999',\n",
       "  '₹799',\n",
       "  '₹1,500'],\n",
       " 'rule_5vht': ['₹2,999',\n",
       "  '₹4,999',\n",
       "  '₹5,999',\n",
       "  '₹3,999',\n",
       "  '₹4,999',\n",
       "  '₹369',\n",
       "  '₹999',\n",
       "  '₹299',\n",
       "  '₹595',\n",
       "  '₹369',\n",
       "  '₹999',\n",
       "  '₹369',\n",
       "  '₹999',\n",
       "  '₹369',\n",
       "  '₹999',\n",
       "  '₹149',\n",
       "  '₹399',\n",
       "  '₹199',\n",
       "  '₹399',\n",
       "  '₹799',\n",
       "  '₹2,000',\n",
       "  '₹799',\n",
       "  '₹2,000',\n",
       "  '₹529',\n",
       "  '₹1,299',\n",
       "  '₹299',\n",
       "  '₹595',\n",
       "  '₹499',\n",
       "  '₹1,999',\n",
       "  '₹799',\n",
       "  '₹1,500'],\n",
       " 'rule_g3rt': ['₹2,999',\n",
       "  '₹4,999',\n",
       "  '₹5,999',\n",
       "  '₹3,999',\n",
       "  '₹4,999',\n",
       "  '₹369',\n",
       "  '₹999',\n",
       "  '₹299',\n",
       "  '₹595',\n",
       "  '₹369',\n",
       "  '₹999',\n",
       "  '₹369',\n",
       "  '₹999',\n",
       "  '₹369',\n",
       "  '₹999',\n",
       "  '₹149',\n",
       "  '₹399',\n",
       "  '₹199',\n",
       "  '₹399',\n",
       "  '₹799',\n",
       "  '₹2,000',\n",
       "  '₹799',\n",
       "  '₹2,000',\n",
       "  '₹529',\n",
       "  '₹1,299',\n",
       "  '₹299',\n",
       "  '₹595',\n",
       "  '₹499',\n",
       "  '₹1,999',\n",
       "  '₹799',\n",
       "  '₹1,500'],\n",
       " 'rule_2od0': ['₹2,999',\n",
       "  '₹4,999',\n",
       "  '₹5,999',\n",
       "  '₹3,999',\n",
       "  '₹4,999',\n",
       "  '₹369',\n",
       "  '₹999',\n",
       "  '₹299',\n",
       "  '₹595',\n",
       "  '₹369',\n",
       "  '₹999',\n",
       "  '₹369',\n",
       "  '₹999',\n",
       "  '₹369',\n",
       "  '₹999',\n",
       "  '₹149',\n",
       "  '₹399',\n",
       "  '₹199',\n",
       "  '₹399',\n",
       "  '₹799',\n",
       "  '₹2,000',\n",
       "  '₹799',\n",
       "  '₹2,000',\n",
       "  '₹529',\n",
       "  '₹1,299',\n",
       "  '₹299',\n",
       "  '₹595',\n",
       "  '₹499',\n",
       "  '₹1,999',\n",
       "  '₹799',\n",
       "  '₹1,500'],\n",
       " 'rule_8b1m': ['₹2,999',\n",
       "  '₹4,999',\n",
       "  '₹5,999',\n",
       "  '₹3,999',\n",
       "  '₹4,999',\n",
       "  '₹369',\n",
       "  '₹999',\n",
       "  '₹299',\n",
       "  '₹595',\n",
       "  '₹369',\n",
       "  '₹999',\n",
       "  '₹369',\n",
       "  '₹999',\n",
       "  '₹369',\n",
       "  '₹999',\n",
       "  '₹149',\n",
       "  '₹399',\n",
       "  '₹199',\n",
       "  '₹399',\n",
       "  '₹799',\n",
       "  '₹2,000',\n",
       "  '₹799',\n",
       "  '₹2,000',\n",
       "  '₹529',\n",
       "  '₹1,299',\n",
       "  '₹299',\n",
       "  '₹595',\n",
       "  '₹499',\n",
       "  '₹1,999',\n",
       "  '₹799',\n",
       "  '₹1,500']}"
      ]
     },
     "execution_count": 9,
     "metadata": {},
     "output_type": "execute_result"
    }
   ],
   "source": [
    "scraper.get_result_similar(\"https://www.amazon.in/s?k=fire+stick+4k\",grouped=True)"
   ]
  },
  {
   "cell_type": "code",
   "execution_count": 10,
   "metadata": {},
   "outputs": [],
   "source": [
    "scraper.set_rule_aliases({'rule_xg22': 'product_name', 'rule_6b01': 'price'})\n",
    "scraper.keep_rules(['rule_xg22', 'rule_6b01'])\n",
    "scraper.save('amazon-search')"
   ]
  },
  {
   "cell_type": "code",
   "execution_count": 11,
   "metadata": {},
   "outputs": [],
   "source": [
    "scraper.load('amazon-search')"
   ]
  },
  {
   "cell_type": "code",
   "execution_count": 12,
   "metadata": {},
   "outputs": [],
   "source": [
    "result=scraper.get_result_similar(\"https://www.amazon.in/s?k=lg+tv\",group_by_alias=True)\n"
   ]
  },
  {
   "cell_type": "code",
   "execution_count": 13,
   "metadata": {},
   "outputs": [
    {
     "data": {
      "text/plain": [
       "['LG 80 cm (32 inches) HD Ready Smart LED TV 32LM563BPTC (Dark Iron Gray) (2020 Model)',\n",
       " 'LG 108 cm (43 inches) Full HD LED Smart TV 43LM5650PTA (Ceramic Black) (2020 Model)',\n",
       " 'LG 108 cm (43 inches) 4K Ultra HD Smart LED TV 43UM7290PTF (Ceramic Black)',\n",
       " 'LG 139 cm (55 inches) 4K UHD Smart LED TV 55UM7290PTD (Ceramic BK + Dark Steel Silver)',\n",
       " 'LG 126 cm (50 inches) 4K Ultra HD Smart LED TV 50UM7290PTD (Ceramic BK + Dark Steel Silver)',\n",
       " 'LG 195 cms (77 inches) 4K Ultra HD Smart OLED TV OLED77C9PTA | With Built-in Alexa (Dark Meteo Titanium) (2019 Model)',\n",
       " 'LG 139 cm (55 inches) 4K Ultra HD Smart NanoCell TV 55NANO80TNA (Ceramic Black) (2020 Model)',\n",
       " 'LG 164 cm (65 inches) 4K Ultra HD Smart OLED TV 65CXPTA (Dark Steel Silver) (2020 Model)',\n",
       " 'LG 164 cms (65 inches) 4K Ultra HD Smart OLED TV OLED65B9PTA | With Built-in Alexa (PCM Black) (2019 Model)',\n",
       " 'LG 164 cm (65 inches) 4K Ultra HD Smart IPS LED TV 65UM7290PTD (Ceramic Black) (2020 Model)',\n",
       " 'LG 164 cm (65 inches) 4K Ultra HD Smart IPS LED TV 65UN8000PTA (Ceramic Black) (2020 Model)',\n",
       " 'LG 139 cm (55 inches) 4K Ultra HD Smart OLED TV 55BXPTA (Dark Steel Silver) (2020 Model)',\n",
       " 'LG 139 cm (55 inches) 4K Ultra HD Smart LED TV 55SK8500PTA (Black)',\n",
       " 'LG 164 cm (65 inches) 4K Ultra HD Smart OLED TV 65BXPTA (Dark Steel Silver) (2020 Model)',\n",
       " 'LG 139 cm (55 inches) 4K Ultra HD Smart OLED TV 55CXPTA (Dark Steel Silver) (2020 Model)',\n",
       " 'LG 164 cm (65 inches) 4K Ultra HD Smart NanoCell TV 65NANO91TNA (Dark Steel Silver) (2020 Model)']"
      ]
     },
     "execution_count": 13,
     "metadata": {},
     "output_type": "execute_result"
    }
   ],
   "source": [
    "result['product_name']"
   ]
  },
  {
   "cell_type": "code",
   "execution_count": 14,
   "metadata": {},
   "outputs": [
    {
     "data": {
      "text/plain": [
       "['₹16,999',\n",
       " '₹21,990',\n",
       " '₹30,999',\n",
       " '₹40,990',\n",
       " '₹34,999',\n",
       " '₹52,990',\n",
       " '₹49,990',\n",
       " '₹83,990',\n",
       " '₹44,990',\n",
       " '₹66,990',\n",
       " '₹7,74,490',\n",
       " '₹9,99,990',\n",
       " '₹75,990',\n",
       " '₹1,29,990',\n",
       " '₹2,15,599',\n",
       " '₹3,79,990',\n",
       " '₹80,999',\n",
       " '₹1,39,990',\n",
       " '₹1,01,999',\n",
       " '₹1,49,990',\n",
       " '₹1,26,999',\n",
       " '₹2,19,990',\n",
       " '₹1,24,999',\n",
       " '₹1,77,990',\n",
       " '₹2,07,509',\n",
       " '₹3,49,990',\n",
       " '₹1,33,991',\n",
       " '₹2,49,990',\n",
       " '₹1,86,614',\n",
       " '₹2,54,990']"
      ]
     },
     "execution_count": 14,
     "metadata": {},
     "output_type": "execute_result"
    }
   ],
   "source": [
    "result['price']"
   ]
  },
  {
   "cell_type": "code",
   "execution_count": 15,
   "metadata": {},
   "outputs": [
    {
     "data": {
      "text/plain": [
       "16"
      ]
     },
     "execution_count": 15,
     "metadata": {},
     "output_type": "execute_result"
    }
   ],
   "source": [
    "len(result['product_name'])"
   ]
  },
  {
   "cell_type": "code",
   "execution_count": null,
   "metadata": {},
   "outputs": [],
   "source": []
  }
 ],
 "metadata": {
  "kernelspec": {
   "display_name": "Python 3",
   "language": "python",
   "name": "python3"
  },
  "language_info": {
   "codemirror_mode": {
    "name": "ipython",
    "version": 3
   },
   "file_extension": ".py",
   "mimetype": "text/x-python",
   "name": "python",
   "nbconvert_exporter": "python",
   "pygments_lexer": "ipython3",
   "version": "3.8.5"
  }
 },
 "nbformat": 4,
 "nbformat_minor": 4
}
